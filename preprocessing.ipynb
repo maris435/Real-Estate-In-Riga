{
 "cells": [
  {
   "cell_type": "code",
   "execution_count": 1,
   "id": "4cdab1aa",
   "metadata": {},
   "outputs": [],
   "source": [
    "# Import the modules\n",
    "\n",
    "import pandas as pd"
   ]
  },
  {
   "cell_type": "code",
   "execution_count": 2,
   "id": "8153d21f",
   "metadata": {},
   "outputs": [],
   "source": [
    "# Read the DataFrame\n",
    "df = pd.read_csv(\"riga_housing_11062023.csv\")"
   ]
  },
  {
   "cell_type": "code",
   "execution_count": 3,
   "id": "371ca1f1",
   "metadata": {},
   "outputs": [
    {
     "data": {
      "text/plain": [
       "5034"
      ]
     },
     "execution_count": 3,
     "metadata": {},
     "output_type": "execute_result"
    }
   ],
   "source": [
    "# Checking everything loaded correctly\n",
    "len(df)"
   ]
  },
  {
   "cell_type": "code",
   "execution_count": 4,
   "id": "45134034",
   "metadata": {},
   "outputs": [
    {
     "data": {
      "text/html": [
       "<div>\n",
       "<style scoped>\n",
       "    .dataframe tbody tr th:only-of-type {\n",
       "        vertical-align: middle;\n",
       "    }\n",
       "\n",
       "    .dataframe tbody tr th {\n",
       "        vertical-align: top;\n",
       "    }\n",
       "\n",
       "    .dataframe thead th {\n",
       "        text-align: right;\n",
       "    }\n",
       "</style>\n",
       "<table border=\"1\" class=\"dataframe\">\n",
       "  <thead>\n",
       "    <tr style=\"text-align: right;\">\n",
       "      <th></th>\n",
       "      <th>district</th>\n",
       "      <th>address</th>\n",
       "      <th>room_count</th>\n",
       "      <th>area</th>\n",
       "      <th>floors</th>\n",
       "      <th>house_type</th>\n",
       "      <th>price</th>\n",
       "      <th>latitude</th>\n",
       "      <th>longitude</th>\n",
       "    </tr>\n",
       "  </thead>\n",
       "  <tbody>\n",
       "    <tr>\n",
       "      <th>0</th>\n",
       "      <td>Stāvs:</td>\n",
       "      <td>-</td>\n",
       "      <td>Sērija:103.104.119.467.602.Čehu pr.Hrušč.LT pr...</td>\n",
       "      <td>Sērija</td>\n",
       "      <td>Cena</td>\n",
       "      <td>M. ģim.</td>\n",
       "      <td>280  €/mēn.</td>\n",
       "      <td>51.770147</td>\n",
       "      <td>-1.264991</td>\n",
       "    </tr>\n",
       "    <tr>\n",
       "      <th>1</th>\n",
       "      <td>Stāvs:</td>\n",
       "      <td>-</td>\n",
       "      <td>Sērija:103.104.119.467.602.Čehu pr.Hrušč.LT pr...</td>\n",
       "      <td>Sērija</td>\n",
       "      <td>Cena</td>\n",
       "      <td>M. ģim.</td>\n",
       "      <td>280  €/mēn.</td>\n",
       "      <td>51.770147</td>\n",
       "      <td>-1.264991</td>\n",
       "    </tr>\n",
       "    <tr>\n",
       "      <th>2</th>\n",
       "      <td>Čiekurkalns</td>\n",
       "      <td>Rusova 30</td>\n",
       "      <td>1</td>\n",
       "      <td>36</td>\n",
       "      <td>3/5</td>\n",
       "      <td>M. ģim.</td>\n",
       "      <td>280  €/mēn.</td>\n",
       "      <td>56.986648</td>\n",
       "      <td>24.174007</td>\n",
       "    </tr>\n",
       "    <tr>\n",
       "      <th>3</th>\n",
       "      <td>Iļģuciems</td>\n",
       "      <td>Palangas 7</td>\n",
       "      <td>3</td>\n",
       "      <td>66</td>\n",
       "      <td>5/5</td>\n",
       "      <td>LT proj.</td>\n",
       "      <td>60,500  €</td>\n",
       "      <td>56.970871</td>\n",
       "      <td>24.053865</td>\n",
       "    </tr>\n",
       "    <tr>\n",
       "      <th>4</th>\n",
       "      <td>Purvciems</td>\n",
       "      <td>Varavīksnes g. 14</td>\n",
       "      <td>1</td>\n",
       "      <td>31</td>\n",
       "      <td>3/9</td>\n",
       "      <td>602.</td>\n",
       "      <td>40,000  €</td>\n",
       "      <td>56.952195</td>\n",
       "      <td>24.204837</td>\n",
       "    </tr>\n",
       "  </tbody>\n",
       "</table>\n",
       "</div>"
      ],
      "text/plain": [
       "      district            address  \\\n",
       "0       Stāvs:                 -    \n",
       "1       Stāvs:                 -    \n",
       "2  Čiekurkalns          Rusova 30   \n",
       "3    Iļģuciems         Palangas 7   \n",
       "4    Purvciems  Varavīksnes g. 14   \n",
       "\n",
       "                                          room_count    area floors  \\\n",
       "0  Sērija:103.104.119.467.602.Čehu pr.Hrušč.LT pr...  Sērija   Cena   \n",
       "1  Sērija:103.104.119.467.602.Čehu pr.Hrušč.LT pr...  Sērija   Cena   \n",
       "2                                                  1      36    3/5   \n",
       "3                                                  3      66    5/5   \n",
       "4                                                  1      31    3/9   \n",
       "\n",
       "  house_type        price   latitude  longitude  \n",
       "0    M. ģim.  280  €/mēn.  51.770147  -1.264991  \n",
       "1    M. ģim.  280  €/mēn.  51.770147  -1.264991  \n",
       "2    M. ģim.  280  €/mēn.  56.986648  24.174007  \n",
       "3   LT proj.    60,500  €  56.970871  24.053865  \n",
       "4       602.    40,000  €  56.952195  24.204837  "
      ]
     },
     "execution_count": 4,
     "metadata": {},
     "output_type": "execute_result"
    }
   ],
   "source": [
    "df.head()\n"
   ]
  },
  {
   "cell_type": "code",
   "execution_count": 5,
   "id": "d389dd53",
   "metadata": {},
   "outputs": [
    {
     "data": {
      "text/plain": [
       "pandas.core.frame.DataFrame"
      ]
     },
     "execution_count": 5,
     "metadata": {},
     "output_type": "execute_result"
    }
   ],
   "source": [
    "type(df)"
   ]
  },
  {
   "cell_type": "code",
   "execution_count": 6,
   "id": "fde371fc",
   "metadata": {
    "scrolled": true
   },
   "outputs": [],
   "source": [
    "# Dropping duplicates\n",
    "df.drop_duplicates(inplace=True)"
   ]
  },
  {
   "cell_type": "code",
   "execution_count": 7,
   "id": "fee221f3",
   "metadata": {},
   "outputs": [
    {
     "data": {
      "text/plain": [
       "district       object\n",
       "address        object\n",
       "room_count     object\n",
       "area           object\n",
       "floors         object\n",
       "house_type     object\n",
       "price          object\n",
       "latitude      float64\n",
       "longitude     float64\n",
       "dtype: object"
      ]
     },
     "execution_count": 7,
     "metadata": {},
     "output_type": "execute_result"
    }
   ],
   "source": [
    "df.dtypes"
   ]
  },
  {
   "cell_type": "code",
   "execution_count": 8,
   "id": "1149e7de",
   "metadata": {},
   "outputs": [],
   "source": [
    "df['longitude'] = pd.to_numeric(df['longitude'], errors='coerce')"
   ]
  },
  {
   "cell_type": "code",
   "execution_count": 9,
   "id": "1164a690",
   "metadata": {},
   "outputs": [],
   "source": [
    "df.dropna(subset=['longitude'], inplace=True)"
   ]
  },
  {
   "cell_type": "code",
   "execution_count": 10,
   "id": "a31b88e3",
   "metadata": {},
   "outputs": [
    {
     "data": {
      "text/plain": [
       "3944"
      ]
     },
     "execution_count": 10,
     "metadata": {},
     "output_type": "execute_result"
    }
   ],
   "source": [
    "len(df)"
   ]
  },
  {
   "cell_type": "code",
   "execution_count": 11,
   "id": "0ee80aba",
   "metadata": {},
   "outputs": [],
   "source": [
    "df = df.loc[df['longitude'] < 24.3]\n",
    "df = df.loc[df['longitude'] > 23.90]"
   ]
  },
  {
   "cell_type": "code",
   "execution_count": 12,
   "id": "f815e38b",
   "metadata": {},
   "outputs": [
    {
     "data": {
      "text/plain": [
       "3653"
      ]
     },
     "execution_count": 12,
     "metadata": {},
     "output_type": "execute_result"
    }
   ],
   "source": [
    "len(df)"
   ]
  },
  {
   "cell_type": "code",
   "execution_count": 13,
   "id": "4732c051",
   "metadata": {},
   "outputs": [],
   "source": [
    "df = df.loc[df['latitude'] > 56.85]\n",
    "df = df.loc[df['latitude'] < 57.1]"
   ]
  },
  {
   "cell_type": "code",
   "execution_count": 14,
   "id": "874a9f99",
   "metadata": {},
   "outputs": [
    {
     "data": {
      "text/plain": [
       "3653"
      ]
     },
     "execution_count": 14,
     "metadata": {},
     "output_type": "execute_result"
    }
   ],
   "source": [
    "len(df)"
   ]
  },
  {
   "cell_type": "code",
   "execution_count": null,
   "id": "71667a67",
   "metadata": {},
   "outputs": [],
   "source": [
    "print(df[300:400])"
   ]
  },
  {
   "cell_type": "code",
   "execution_count": null,
   "id": "59375af0",
   "metadata": {},
   "outputs": [],
   "source": [
    "print(df['latitude'].max())\n",
    "print(df['latitude'].min())"
   ]
  },
  {
   "cell_type": "code",
   "execution_count": null,
   "id": "a7566e97",
   "metadata": {},
   "outputs": [],
   "source": [
    "print(df['longitude'].max())\n",
    "print(df['longitude'].min())"
   ]
  },
  {
   "cell_type": "code",
   "execution_count": null,
   "id": "c064899e",
   "metadata": {},
   "outputs": [],
   "source": []
  }
 ],
 "metadata": {
  "kernelspec": {
   "display_name": "Python 3 (ipykernel)",
   "language": "python",
   "name": "python3"
  },
  "language_info": {
   "codemirror_mode": {
    "name": "ipython",
    "version": 3
   },
   "file_extension": ".py",
   "mimetype": "text/x-python",
   "name": "python",
   "nbconvert_exporter": "python",
   "pygments_lexer": "ipython3",
   "version": "3.11.1"
  }
 },
 "nbformat": 4,
 "nbformat_minor": 5
}
